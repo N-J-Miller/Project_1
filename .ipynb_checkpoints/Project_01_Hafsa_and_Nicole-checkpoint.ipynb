{
 "cells": [
  {
   "cell_type": "markdown",
   "id": "cf37500a",
   "metadata": {},
   "source": [
    "# Project 01 \n",
    " by Hafsa and Nicole"
   ]
  },
  {
   "cell_type": "markdown",
   "id": "59b74377",
   "metadata": {},
   "source": [
    "# How did national murder rates change in 2020 from previous years?"
   ]
  },
  {
   "cell_type": "markdown",
   "id": "ab91b3ed",
   "metadata": {},
   "source": [
    "### Below we will explore crime statistics from the Federal Bureau of Investigation to answer this question."
   ]
  },
  {
   "cell_type": "code",
   "execution_count": 3,
   "id": "ca921cfa",
   "metadata": {},
   "outputs": [],
   "source": [
    "# Dependencies and modules:\n",
    "import matplotlib.pyplot as plt\n",
    "import pandas as pd\n",
    "import numpy as np\n",
    "import requests\n",
    "import time\n",
    "from pprint import pprint\n",
    "import seaborn as sns\n",
    "import statistics\n",
    "import math\n",
    "from scipy import stats\n",
    "\n",
    "# Import API key\n",
    "from api_keys import FBI_api"
   ]
  },
  {
   "cell_type": "code",
   "execution_count": 21,
   "id": "1d82504d",
   "metadata": {},
   "outputs": [
    {
     "name": "stdout",
     "output_type": "stream",
     "text": [
      "<Response [400]>\n"
     ]
    }
   ],
   "source": [
    "# base_url = 'http://api.openweathermap.org/data/2.5/weather?units=Imperial&APPID='+ api_key\n",
    "# city = 'st. louis'\n",
    "\n",
    "# req = requests.get(base_url + f'&q={city}')\n",
    "# print()\n",
    "\n",
    "# #create a json output of the data\n",
    "\n",
    "# json_data = req.json()\n",
    "# print(json_data)           <-- This is the code block that we used in Week 5. I copied it here to use as a template.\n",
    "\n",
    "\n",
    "\n",
    "# Endpoint: /api/summarized/query            <---Here are all parts needed to build HTTP,\n",
    "# Base URL: api.usa.gov/crime/fbi/sapi/          I just can't figure out the proper order and syntax.\n",
    "# My api: FBI_api    \n",
    "    \n",
    "base_url = 'http://api.usa.gov/crime/fbi/sapi/api/summarized/query'+ FBI_api\n",
    " \n",
    "req = requests.get(base_url)\n",
    "print(req)  # <---- Doing this prints a 400 code, which means 'bad request'. Usually bad syntax. :( "
   ]
  },
  {
   "cell_type": "code",
   "execution_count": null,
   "id": "95f23d96",
   "metadata": {},
   "outputs": [],
   "source": []
  }
 ],
 "metadata": {
  "kernelspec": {
   "display_name": "Python 3 (ipykernel)",
   "language": "python",
   "name": "python3"
  },
  "language_info": {
   "codemirror_mode": {
    "name": "ipython",
    "version": 3
   },
   "file_extension": ".py",
   "mimetype": "text/x-python",
   "name": "python",
   "nbconvert_exporter": "python",
   "pygments_lexer": "ipython3",
   "version": "3.9.7"
  }
 },
 "nbformat": 4,
 "nbformat_minor": 5
}
