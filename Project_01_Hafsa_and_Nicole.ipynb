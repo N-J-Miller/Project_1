{
 "cells": [
  {
   "cell_type": "markdown",
   "id": "cf37500a",
   "metadata": {},
   "source": [
    "# Project 01 \n",
    " by Hafsa and Nicole"
   ]
  },
  {
   "cell_type": "markdown",
   "id": "59b74377",
   "metadata": {},
   "source": [
    "# How did national murder rates change in 2020 from previous years?"
   ]
  },
  {
   "cell_type": "markdown",
   "id": "ab91b3ed",
   "metadata": {},
   "source": [
    "### Below we will explore crime statistics from the Federal Bureau of Investigation to answer this question."
   ]
  },
  {
   "cell_type": "code",
   "execution_count": 10,
   "id": "ca921cfa",
   "metadata": {},
   "outputs": [],
   "source": [
    "# Dependencies and modules:\n",
    "import matplotlib.pyplot as plt\n",
    "import pandas as pd\n",
    "import numpy as np\n",
    "import requests\n",
    "import time\n",
    "from pprint import pprint\n",
    "import seaborn as sns\n",
    "import statistics\n",
    "import math\n",
    "from scipy import stats\n",
    "\n",
    "# Import API key\n",
    "from api_keys import FBI_api"
   ]
  },
  {
   "cell_type": "code",
   "execution_count": 6,
   "id": "d7bcbb14",
   "metadata": {},
   "outputs": [],
   "source": [
    "states = {'AK': 'Alaska',\n",
    "        'AL': 'Alabama',\n",
    "        'AR': 'Arkansas',\n",
    "        'AS': 'American Samoa',\n",
    "        'AZ': 'Arizona',\n",
    "        'CA': 'California',\n",
    "        'CO': 'Colorado',\n",
    "        'CT': 'Connecticut',\n",
    "        'DC': 'District of Columbia',\n",
    "        'DE': 'Delaware',\n",
    "        'FL': 'Florida',\n",
    "        'GA': 'Georgia',\n",
    "        'GU': 'Guam',\n",
    "        'HI': 'Hawaii',\n",
    "        'IA': 'Iowa',\n",
    "        'ID': 'Idaho',\n",
    "        'IL': 'Illinois',\n",
    "        'IN': 'Indiana',\n",
    "        'KS': 'Kansas',\n",
    "        'KY': 'Kentucky',\n",
    "        'LA': 'Louisiana',\n",
    "        'MA': 'Massachusetts',\n",
    "        'MD': 'Maryland',\n",
    "        'ME': 'Maine',\n",
    "        'MI': 'Michigan',\n",
    "        'MN': 'Minnesota',\n",
    "        'MO': 'Missouri',\n",
    "        'MP': 'Northern Mariana Islands',\n",
    "        'MS': 'Mississippi',\n",
    "        'MT': 'Montana',\n",
    "        'NA': 'National',\n",
    "        'NC': 'North Carolina',\n",
    "        'ND': 'North Dakota',\n",
    "        'NE': 'Nebraska',\n",
    "        'NH': 'New Hampshire',\n",
    "        'NJ': 'New Jersey',\n",
    "        'NM': 'New Mexico',\n",
    "        'NV': 'Nevada',\n",
    "        'NY': 'New York',\n",
    "        'OH': 'Ohio',\n",
    "        'OK': 'Oklahoma',\n",
    "        'OR': 'Oregon',\n",
    "        'PA': 'Pennsylvania',\n",
    "        'PR': 'Puerto Rico',\n",
    "        'RI': 'Rhode Island',\n",
    "        'SC': 'South Carolina',\n",
    "        'SD': 'South Dakota',\n",
    "        'TN': 'Tennessee',\n",
    "        'TX': 'Texas',\n",
    "        'UT': 'Utah',\n",
    "        'VA': 'Virginia',\n",
    "        'VI': 'Virgin Islands',\n",
    "        'VT': 'Vermont',\n",
    "        'WA': 'Washington',\n",
    "        'WI': 'Wisconsin',\n",
    "        'WV': 'West Virginia',\n",
    "        'WY': 'Wyoming'}"
   ]
  },
  {
   "cell_type": "code",
   "execution_count": 7,
   "id": "1d82504d",
   "metadata": {},
   "outputs": [
    {
     "name": "stdout",
     "output_type": "stream",
     "text": [
      "<Response [200]>\n",
      "{'results': [{'state_id': None, 'state_abbr': '', 'year': 2015, 'population': 320896618, 'violent_crime': 1199310, 'homicide': 15883, 'rape_legacy': 91261, 'rape_revised': 126134, 'robbery': 328109, 'aggravated_assault': 764057, 'property_crime': 8024115, 'burglary': 1587564, 'larceny': 5723488, 'motor_vehicle_theft': 713063, 'arson': 44139}, {'state_id': None, 'state_abbr': '', 'year': 2010, 'population': 309330219, 'violent_crime': 1251248, 'homicide': 14722, 'rape_legacy': 85593, 'rape_revised': None, 'robbery': 369089, 'aggravated_assault': 781844, 'property_crime': 9112625, 'burglary': 2168459, 'larceny': 6204601, 'motor_vehicle_theft': 739565, 'arson': 56005}, {'state_id': None, 'state_abbr': '', 'year': 2011, 'population': 311587816, 'violent_crime': 1206031, 'homicide': 14661, 'rape_legacy': 84175, 'rape_revised': None, 'robbery': 354772, 'aggravated_assault': 752423, 'property_crime': 9052743, 'burglary': 2185140, 'larceny': 6151095, 'motor_vehicle_theft': 716508, 'arson': 54565}, {'state_id': None, 'state_abbr': None, 'year': 2017, 'population': 325147121, 'violent_crime': 1283875, 'homicide': 17294, 'rape_legacy': None, 'rape_revised': 135666, 'robbery': 320596, 'aggravated_assault': 810319, 'property_crime': 7682988, 'burglary': 1397045, 'larceny': 5513000, 'motor_vehicle_theft': 772943, 'arson': 42990}, {'state_id': None, 'state_abbr': '', 'year': 2012, 'population': 313873685, 'violent_crime': 1217057, 'homicide': 14856, 'rape_legacy': 85141, 'rape_revised': None, 'robbery': 355051, 'aggravated_assault': 762009, 'property_crime': 9001992, 'burglary': 2109932, 'larceny': 6168874, 'motor_vehicle_theft': 723186, 'arson': 55394}, {'state_id': None, 'state_abbr': '', 'year': 2013, 'population': 316497531, 'violent_crime': 1168298, 'homicide': 14319, 'rape_legacy': 82109, 'rape_revised': 113695, 'robbery': 345093, 'aggravated_assault': 726777, 'property_crime': 8651892, 'burglary': 1932139, 'larceny': 6019465, 'motor_vehicle_theft': 700288, 'arson': 47267}, {'state_id': None, 'state_abbr': '', 'year': 2014, 'population': 318907401, 'violent_crime': 1153022, 'homicide': 14164, 'rape_legacy': 84864, 'rape_revised': 118027, 'robbery': 322905, 'aggravated_assault': 731089, 'property_crime': 8209010, 'burglary': 1713153, 'larceny': 5809054, 'motor_vehicle_theft': 686803, 'arson': 46282}, {'state_id': None, 'state_abbr': '', 'year': 2016, 'population': 323405935, 'violent_crime': 1285606, 'homicide': 17413, 'rape_legacy': 96970, 'rape_revised': 132414, 'robbery': 332797, 'aggravated_assault': 802982, 'property_crime': 7928530, 'burglary': 1516405, 'larceny': 5644835, 'motor_vehicle_theft': 767290, 'arson': 45927}, {'state_id': None, 'state_abbr': None, 'year': 2018, 'population': 326687501, 'violent_crime': 1252399, 'homicide': 16374, 'rape_legacy': None, 'rape_revised': 143765, 'robbery': 281278, 'aggravated_assault': 810982, 'property_crime': 7219084, 'burglary': 1235013, 'larceny': 5232167, 'motor_vehicle_theft': 751904, 'arson': 39367}, {'state_id': None, 'state_abbr': None, 'year': 2019, 'population': 328329953, 'violent_crime': 1250393, 'homicide': 16669, 'rape_legacy': None, 'rape_revised': 143224, 'robbery': 268483, 'aggravated_assault': 822017, 'property_crime': 6995235, 'burglary': 1118096, 'larceny': 5152267, 'motor_vehicle_theft': 724872, 'arson': 35919}, {'state_id': None, 'state_abbr': None, 'year': 2020, 'population': 329484123, 'violent_crime': 1313105, 'homicide': 21570, 'rape_legacy': None, 'rape_revised': 126430, 'robbery': 243600, 'aggravated_assault': 921505, 'property_crime': 6452038, 'burglary': 1035314, 'larceny': 4606324, 'motor_vehicle_theft': 810400, 'arson': 43602}], 'pagination': {'count': 11, 'page': 0, 'pages': 1, 'per_page': 0}}\n"
     ]
    }
   ],
   "source": [
    "# base_url = 'http://api.openweathermap.org/data/2.5/weather?units=Imperial&APPID='+ api_key\n",
    "# city = 'st. louis'\n",
    "\n",
    "# req = requests.get(base_url + f'&q={city}')\n",
    "# print()\n",
    "\n",
    "# #create a json output of the data\n",
    "\n",
    "# json_data = req.json()\n",
    "# print(json_data)           <-- This is the code block that we used in Week 5. I copied it here to use as a template.\n",
    "\n",
    "\n",
    "\n",
    "# Endpoint: /api/summarized/query            <---Here are all parts needed to build HTTP,\n",
    "# Base URL: api.usa.gov/crime/fbi/sapi/          I just can't figure out the proper order and syntax.\n",
    "# My api: FBI_api    \n",
    "\n",
    "    \n",
    "base_url = 'https://api.usa.gov/crime/fbi/sapi/api/estimates/national/2010/2020?API_KEY=' + FBI_api\n",
    "\n",
    "#\n",
    "\n",
    "req = requests.get(base_url)\n",
    "print(req)  # response 200!\n",
    "\n",
    "json_data = req.json()\n",
    "print(json_data)"
   ]
  },
  {
   "cell_type": "code",
   "execution_count": 4,
   "id": "95f23d96",
   "metadata": {},
   "outputs": [],
   "source": [
    "#data we want: year, homicide, population, state, state abr\n",
    "#make a null set and append from api\n",
    "murder_by_state= {'State ID':[], 'State Abbreviation': [], 'Year': [], 'Population': [], 'Number of Homicides': []}\n",
    "\n",
    "for state_abr in states:\n",
    "   base_url = \"https://api.usa.gov/crime/fbi/sapi/api/estimates/states/{StateAbbr}/2010/2020?API_KEY=\" + FBI_api   #how to add the state abbr in here?\n",
    "    \n",
    "    try:\n",
    "        \n",
    "        req = requests.get(base_url + f'&q={state_abr}')\n",
    "        \n",
    "        data = req.json()\n",
    "\n",
    "        murder_by_state['State ID'].append(data['state_id'])\n",
    "        murder_by_state['State Abbreviation'].append(data['state_abbr'])\n",
    "        murder_by_state['Year'].append(data['year'])\n",
    "        murder_by_state['Population'].append(data['population'])\n",
    "        murder_by_state['Number of Homicides'].append(data['homicide'])\n",
    "        \n",
    " \n",
    "        print(\"processing \" + state_abr)\n",
    "    except:\n",
    "        print(state_abr+ \" not found\")                    \n",
    "        pass"
   ]
  },
  {
   "cell_type": "code",
   "execution_count": 8,
   "id": "727c745f",
   "metadata": {},
   "outputs": [
    {
     "name": "stdout",
     "output_type": "stream",
     "text": [
      "AK not found\n",
      "AL not found\n",
      "AR not found\n",
      "AS not found\n",
      "AZ not found\n",
      "CA not found\n",
      "CO not found\n",
      "CT not found\n",
      "DC not found\n",
      "DE not found\n",
      "FL not found\n",
      "GA not found\n",
      "GU not found\n",
      "HI not found\n",
      "IA not found\n",
      "ID not found\n",
      "IL not found\n",
      "IN not found\n",
      "KS not found\n",
      "KY not found\n",
      "LA not found\n",
      "MA not found\n",
      "MD not found\n",
      "ME not found\n",
      "MI not found\n",
      "MN not found\n",
      "MO not found\n",
      "MP not found\n",
      "MS not found\n",
      "MT not found\n",
      "NA not found\n",
      "NC not found\n",
      "ND not found\n",
      "NE not found\n",
      "NH not found\n",
      "NJ not found\n",
      "NM not found\n",
      "NV not found\n",
      "NY not found\n",
      "OH not found\n",
      "OK not found\n",
      "OR not found\n",
      "PA not found\n",
      "PR not found\n",
      "RI not found\n",
      "SC not found\n",
      "SD not found\n",
      "TN not found\n",
      "TX not found\n",
      "UT not found\n",
      "VA not found\n",
      "VI not found\n",
      "VT not found\n",
      "WA not found\n",
      "WI not found\n",
      "WV not found\n",
      "WY not found\n"
     ]
    }
   ],
   "source": [
    "\n",
    "\n"
   ]
  },
  {
   "cell_type": "code",
   "execution_count": 6,
   "id": "49e26df2",
   "metadata": {},
   "outputs": [
    {
     "data": {
      "text/plain": [
       "{'State ID': [],\n",
       " 'State Abbreviation': [],\n",
       " 'Year': [],\n",
       " 'Population': [],\n",
       " 'Number of Homicides': []}"
      ]
     },
     "execution_count": 6,
     "metadata": {},
     "output_type": "execute_result"
    }
   ],
   "source": [
    "murder_by_state"
   ]
  },
  {
   "cell_type": "code",
   "execution_count": 18,
   "id": "8aa819ff",
   "metadata": {},
   "outputs": [
    {
     "name": "stdout",
     "output_type": "stream",
     "text": [
      "<Response [200]>\n",
      "{'results': [{'state_id': 56, 'state_abbr': 'WY', 'year': 2017, 'population': 578934, 'violent_crime': 1358, 'homicide': 14, 'rape_legacy': None, 'rape_revised': 253, 'robbery': 98, 'aggravated_assault': 993, 'property_crime': 10528, 'burglary': 1556, 'larceny': 8211, 'motor_vehicle_theft': 761, 'arson': 48}, {'state_id': 56, 'state_abbr': 'WY', 'year': 2010, 'population': 564554, 'violent_crime': 1117, 'homicide': 8, 'rape_legacy': 162, 'rape_revised': None, 'robbery': 77, 'aggravated_assault': 870, 'property_crime': 13869, 'burglary': 2151, 'larceny': 11126, 'motor_vehicle_theft': 592, 'arson': 71}, {'state_id': 56, 'state_abbr': 'WY', 'year': 2011, 'population': 567356, 'violent_crime': 1245, 'homicide': 18, 'rape_legacy': 146, 'rape_revised': None, 'robbery': 71, 'aggravated_assault': 1010, 'property_crime': 12878, 'burglary': 1864, 'larceny': 10493, 'motor_vehicle_theft': 521, 'arson': 58}, {'state_id': 56, 'state_abbr': 'WY', 'year': 2012, 'population': 576626, 'violent_crime': 1161, 'homicide': 14, 'rape_legacy': 154, 'rape_revised': None, 'robbery': 61, 'aggravated_assault': 932, 'property_crime': 13222, 'burglary': 2125, 'larceny': 10513, 'motor_vehicle_theft': 584, 'arson': 99}, {'state_id': 56, 'state_abbr': 'WY', 'year': 2015, 'population': 586555, 'violent_crime': 1300, 'homicide': 16, 'rape_legacy': 124, 'rape_revised': 171, 'robbery': 59, 'aggravated_assault': 1054, 'property_crime': 11151, 'burglary': 1762, 'larceny': 8797, 'motor_vehicle_theft': 592, 'arson': 51}, {'state_id': 56, 'state_abbr': 'WY', 'year': 2013, 'population': 583223, 'violent_crime': 1212, 'homicide': 17, 'rape_legacy': 144, 'rape_revised': 204, 'robbery': 74, 'aggravated_assault': 917, 'property_crime': 12809, 'burglary': 1956, 'larceny': 10275, 'motor_vehicle_theft': 578, 'arson': 45}, {'state_id': 56, 'state_abbr': 'WY', 'year': 2014, 'population': 584304, 'violent_crime': 1142, 'homicide': 16, 'rape_legacy': 127, 'rape_revised': 174, 'robbery': 53, 'aggravated_assault': 899, 'property_crime': 11477, 'burglary': 1689, 'larceny': 9185, 'motor_vehicle_theft': 603, 'arson': 39}, {'state_id': 56, 'state_abbr': 'WY', 'year': 2016, 'population': 584910, 'violent_crime': 1431, 'homicide': 20, 'rape_legacy': 152, 'rape_revised': 206, 'robbery': 59, 'aggravated_assault': 1146, 'property_crime': 11460, 'burglary': 1771, 'larceny': 8889, 'motor_vehicle_theft': 800, 'arson': 43}, {'state_id': 56, 'state_abbr': 'WY', 'year': 2018, 'population': 577601, 'violent_crime': 1235, 'homicide': 14, 'rape_legacy': None, 'rape_revised': 261, 'robbery': 75, 'aggravated_assault': 885, 'property_crime': 10308, 'burglary': 1551, 'larceny': 7974, 'motor_vehicle_theft': 783, 'arson': 37}, {'state_id': 56, 'state_abbr': 'WY', 'year': 2019, 'population': 580116, 'violent_crime': 1247, 'homicide': 13, 'rape_legacy': None, 'rape_revised': 323, 'robbery': 67, 'aggravated_assault': 844, 'property_crime': 9097, 'burglary': 1394, 'larceny': 6981, 'motor_vehicle_theft': 722, 'arson': 46}, {'state_id': 56, 'state_abbr': 'WY', 'year': 2020, 'population': 582328, 'violent_crime': 1364, 'homicide': 18, 'rape_legacy': None, 'rape_revised': 333, 'robbery': 66, 'aggravated_assault': 947, 'property_crime': 9379, 'burglary': 1225, 'larceny': 7190, 'motor_vehicle_theft': 964, 'arson': 53}], 'pagination': {'count': 11, 'page': 0, 'pages': 1, 'per_page': 0}}\n"
     ]
    }
   ],
   "source": []
  }
 ],
 "metadata": {
  "kernelspec": {
   "display_name": "Python 3 (ipykernel)",
   "language": "python",
   "name": "python3"
  },
  "language_info": {
   "codemirror_mode": {
    "name": "ipython",
    "version": 3
   },
   "file_extension": ".py",
   "mimetype": "text/x-python",
   "name": "python",
   "nbconvert_exporter": "python",
   "pygments_lexer": "ipython3",
   "version": "3.9.7"
  }
 },
 "nbformat": 4,
 "nbformat_minor": 5
}
